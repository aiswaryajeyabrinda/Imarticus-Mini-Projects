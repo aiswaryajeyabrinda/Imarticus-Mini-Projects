{
 "cells": [
  {
   "cell_type": "code",
   "execution_count": 1,
   "id": "436a67af",
   "metadata": {},
   "outputs": [],
   "source": [
    "import pandas as pd\n",
    "import seaborn as sns\n",
    "import matplotlib.pyplot as plt\n",
    "import numpy as np"
   ]
  },
  {
   "cell_type": "code",
   "execution_count": 2,
   "id": "85ea161e",
   "metadata": {},
   "outputs": [],
   "source": [
    "data = pd.read_csv(\"C:/Users/senth/Downloads/breast-cancer-wisconsin.data\",header = None,na_values = \"?\")"
   ]
  },
  {
   "cell_type": "code",
   "execution_count": 3,
   "id": "ba630c89",
   "metadata": {},
   "outputs": [
    {
     "data": {
      "text/html": [
       "<div>\n",
       "<style scoped>\n",
       "    .dataframe tbody tr th:only-of-type {\n",
       "        vertical-align: middle;\n",
       "    }\n",
       "\n",
       "    .dataframe tbody tr th {\n",
       "        vertical-align: top;\n",
       "    }\n",
       "\n",
       "    .dataframe thead th {\n",
       "        text-align: right;\n",
       "    }\n",
       "</style>\n",
       "<table border=\"1\" class=\"dataframe\">\n",
       "  <thead>\n",
       "    <tr style=\"text-align: right;\">\n",
       "      <th></th>\n",
       "      <th>0</th>\n",
       "      <th>1</th>\n",
       "      <th>2</th>\n",
       "      <th>3</th>\n",
       "      <th>4</th>\n",
       "      <th>5</th>\n",
       "      <th>6</th>\n",
       "      <th>7</th>\n",
       "      <th>8</th>\n",
       "      <th>9</th>\n",
       "      <th>10</th>\n",
       "    </tr>\n",
       "  </thead>\n",
       "  <tbody>\n",
       "    <tr>\n",
       "      <th>0</th>\n",
       "      <td>1000025</td>\n",
       "      <td>5</td>\n",
       "      <td>1</td>\n",
       "      <td>1</td>\n",
       "      <td>1</td>\n",
       "      <td>2</td>\n",
       "      <td>1.0</td>\n",
       "      <td>3</td>\n",
       "      <td>1</td>\n",
       "      <td>1</td>\n",
       "      <td>2</td>\n",
       "    </tr>\n",
       "    <tr>\n",
       "      <th>1</th>\n",
       "      <td>1002945</td>\n",
       "      <td>5</td>\n",
       "      <td>4</td>\n",
       "      <td>4</td>\n",
       "      <td>5</td>\n",
       "      <td>7</td>\n",
       "      <td>10.0</td>\n",
       "      <td>3</td>\n",
       "      <td>2</td>\n",
       "      <td>1</td>\n",
       "      <td>2</td>\n",
       "    </tr>\n",
       "    <tr>\n",
       "      <th>2</th>\n",
       "      <td>1015425</td>\n",
       "      <td>3</td>\n",
       "      <td>1</td>\n",
       "      <td>1</td>\n",
       "      <td>1</td>\n",
       "      <td>2</td>\n",
       "      <td>2.0</td>\n",
       "      <td>3</td>\n",
       "      <td>1</td>\n",
       "      <td>1</td>\n",
       "      <td>2</td>\n",
       "    </tr>\n",
       "    <tr>\n",
       "      <th>3</th>\n",
       "      <td>1016277</td>\n",
       "      <td>6</td>\n",
       "      <td>8</td>\n",
       "      <td>8</td>\n",
       "      <td>1</td>\n",
       "      <td>3</td>\n",
       "      <td>4.0</td>\n",
       "      <td>3</td>\n",
       "      <td>7</td>\n",
       "      <td>1</td>\n",
       "      <td>2</td>\n",
       "    </tr>\n",
       "    <tr>\n",
       "      <th>4</th>\n",
       "      <td>1017023</td>\n",
       "      <td>4</td>\n",
       "      <td>1</td>\n",
       "      <td>1</td>\n",
       "      <td>3</td>\n",
       "      <td>2</td>\n",
       "      <td>1.0</td>\n",
       "      <td>3</td>\n",
       "      <td>1</td>\n",
       "      <td>1</td>\n",
       "      <td>2</td>\n",
       "    </tr>\n",
       "  </tbody>\n",
       "</table>\n",
       "</div>"
      ],
      "text/plain": [
       "        0   1   2   3   4   5     6   7   8   9   10\n",
       "0  1000025   5   1   1   1   2   1.0   3   1   1   2\n",
       "1  1002945   5   4   4   5   7  10.0   3   2   1   2\n",
       "2  1015425   3   1   1   1   2   2.0   3   1   1   2\n",
       "3  1016277   6   8   8   1   3   4.0   3   7   1   2\n",
       "4  1017023   4   1   1   3   2   1.0   3   1   1   2"
      ]
     },
     "execution_count": 3,
     "metadata": {},
     "output_type": "execute_result"
    }
   ],
   "source": [
    "data.head()"
   ]
  },
  {
   "cell_type": "code",
   "execution_count": 4,
   "id": "2c46df02",
   "metadata": {},
   "outputs": [],
   "source": [
    "data.columns = ['Sample_code_number','Clump_Thickness','Uniformity_of_Cell_Size','Uniformity_of_Cell_Shape','Marginal_Adhesion','Single-Epithelial_Cell_Size','Bare_Nuclei','Bland_Chromatin','Normal_Nucleoli','Mitoses','Class']"
   ]
  },
  {
   "cell_type": "code",
   "execution_count": 5,
   "id": "5036be68",
   "metadata": {},
   "outputs": [
    {
     "data": {
      "text/html": [
       "<div>\n",
       "<style scoped>\n",
       "    .dataframe tbody tr th:only-of-type {\n",
       "        vertical-align: middle;\n",
       "    }\n",
       "\n",
       "    .dataframe tbody tr th {\n",
       "        vertical-align: top;\n",
       "    }\n",
       "\n",
       "    .dataframe thead th {\n",
       "        text-align: right;\n",
       "    }\n",
       "</style>\n",
       "<table border=\"1\" class=\"dataframe\">\n",
       "  <thead>\n",
       "    <tr style=\"text-align: right;\">\n",
       "      <th></th>\n",
       "      <th>Sample_code_number</th>\n",
       "      <th>Clump_Thickness</th>\n",
       "      <th>Uniformity_of_Cell_Size</th>\n",
       "      <th>Uniformity_of_Cell_Shape</th>\n",
       "      <th>Marginal_Adhesion</th>\n",
       "      <th>Single-Epithelial_Cell_Size</th>\n",
       "      <th>Bare_Nuclei</th>\n",
       "      <th>Bland_Chromatin</th>\n",
       "      <th>Normal_Nucleoli</th>\n",
       "      <th>Mitoses</th>\n",
       "      <th>Class</th>\n",
       "    </tr>\n",
       "  </thead>\n",
       "  <tbody>\n",
       "    <tr>\n",
       "      <th>0</th>\n",
       "      <td>1000025</td>\n",
       "      <td>5</td>\n",
       "      <td>1</td>\n",
       "      <td>1</td>\n",
       "      <td>1</td>\n",
       "      <td>2</td>\n",
       "      <td>1.0</td>\n",
       "      <td>3</td>\n",
       "      <td>1</td>\n",
       "      <td>1</td>\n",
       "      <td>2</td>\n",
       "    </tr>\n",
       "    <tr>\n",
       "      <th>1</th>\n",
       "      <td>1002945</td>\n",
       "      <td>5</td>\n",
       "      <td>4</td>\n",
       "      <td>4</td>\n",
       "      <td>5</td>\n",
       "      <td>7</td>\n",
       "      <td>10.0</td>\n",
       "      <td>3</td>\n",
       "      <td>2</td>\n",
       "      <td>1</td>\n",
       "      <td>2</td>\n",
       "    </tr>\n",
       "    <tr>\n",
       "      <th>2</th>\n",
       "      <td>1015425</td>\n",
       "      <td>3</td>\n",
       "      <td>1</td>\n",
       "      <td>1</td>\n",
       "      <td>1</td>\n",
       "      <td>2</td>\n",
       "      <td>2.0</td>\n",
       "      <td>3</td>\n",
       "      <td>1</td>\n",
       "      <td>1</td>\n",
       "      <td>2</td>\n",
       "    </tr>\n",
       "    <tr>\n",
       "      <th>3</th>\n",
       "      <td>1016277</td>\n",
       "      <td>6</td>\n",
       "      <td>8</td>\n",
       "      <td>8</td>\n",
       "      <td>1</td>\n",
       "      <td>3</td>\n",
       "      <td>4.0</td>\n",
       "      <td>3</td>\n",
       "      <td>7</td>\n",
       "      <td>1</td>\n",
       "      <td>2</td>\n",
       "    </tr>\n",
       "    <tr>\n",
       "      <th>4</th>\n",
       "      <td>1017023</td>\n",
       "      <td>4</td>\n",
       "      <td>1</td>\n",
       "      <td>1</td>\n",
       "      <td>3</td>\n",
       "      <td>2</td>\n",
       "      <td>1.0</td>\n",
       "      <td>3</td>\n",
       "      <td>1</td>\n",
       "      <td>1</td>\n",
       "      <td>2</td>\n",
       "    </tr>\n",
       "  </tbody>\n",
       "</table>\n",
       "</div>"
      ],
      "text/plain": [
       "   Sample_code_number  Clump_Thickness  Uniformity_of_Cell_Size  \\\n",
       "0             1000025                5                        1   \n",
       "1             1002945                5                        4   \n",
       "2             1015425                3                        1   \n",
       "3             1016277                6                        8   \n",
       "4             1017023                4                        1   \n",
       "\n",
       "   Uniformity_of_Cell_Shape  Marginal_Adhesion  Single-Epithelial_Cell_Size  \\\n",
       "0                         1                  1                            2   \n",
       "1                         4                  5                            7   \n",
       "2                         1                  1                            2   \n",
       "3                         8                  1                            3   \n",
       "4                         1                  3                            2   \n",
       "\n",
       "   Bare_Nuclei  Bland_Chromatin  Normal_Nucleoli  Mitoses  Class  \n",
       "0          1.0                3                1        1      2  \n",
       "1         10.0                3                2        1      2  \n",
       "2          2.0                3                1        1      2  \n",
       "3          4.0                3                7        1      2  \n",
       "4          1.0                3                1        1      2  "
      ]
     },
     "execution_count": 5,
     "metadata": {},
     "output_type": "execute_result"
    }
   ],
   "source": [
    "data.head()"
   ]
  },
  {
   "cell_type": "code",
   "execution_count": 6,
   "id": "ee53124f",
   "metadata": {},
   "outputs": [
    {
     "name": "stdout",
     "output_type": "stream",
     "text": [
      "<class 'pandas.core.frame.DataFrame'>\n",
      "RangeIndex: 699 entries, 0 to 698\n",
      "Data columns (total 11 columns):\n",
      " #   Column                       Non-Null Count  Dtype  \n",
      "---  ------                       --------------  -----  \n",
      " 0   Sample_code_number           699 non-null    int64  \n",
      " 1   Clump_Thickness              699 non-null    int64  \n",
      " 2   Uniformity_of_Cell_Size      699 non-null    int64  \n",
      " 3   Uniformity_of_Cell_Shape     699 non-null    int64  \n",
      " 4   Marginal_Adhesion            699 non-null    int64  \n",
      " 5   Single-Epithelial_Cell_Size  699 non-null    int64  \n",
      " 6   Bare_Nuclei                  683 non-null    float64\n",
      " 7   Bland_Chromatin              699 non-null    int64  \n",
      " 8   Normal_Nucleoli              699 non-null    int64  \n",
      " 9   Mitoses                      699 non-null    int64  \n",
      " 10  Class                        699 non-null    int64  \n",
      "dtypes: float64(1), int64(10)\n",
      "memory usage: 60.2 KB\n"
     ]
    }
   ],
   "source": [
    "data.info()"
   ]
  },
  {
   "cell_type": "code",
   "execution_count": 7,
   "id": "092e237e",
   "metadata": {},
   "outputs": [
    {
     "data": {
      "text/plain": [
       "(699, 11)"
      ]
     },
     "execution_count": 7,
     "metadata": {},
     "output_type": "execute_result"
    }
   ],
   "source": [
    "data.shape"
   ]
  },
  {
   "cell_type": "code",
   "execution_count": 8,
   "id": "3c54c944",
   "metadata": {},
   "outputs": [
    {
     "data": {
      "text/plain": [
       "array([ 0,  9,  1,  3,  0,  9,  9,  0,  0,  0,  0,  0,  2,  2,  8,  0,  0,\n",
       "        0,  9,  0,  9,  6,  0, 10,  0,  6,  0,  0,  0,  0,  0,  0,  4,  0,\n",
       "        0,  0,  0,  0,  9,  6, 10,  2,  9,  0,  0,  0,  8,  0,  0,  7,  2,\n",
       "        3,  4,  7,  7,  4,  5,  0,  9,  1,  2,  1,  7,  1,  0,  1,  0,  9,\n",
       "        8,  0,  0,  1,  0,  9,  3,  1,  0,  0,  2,  0,  0,  0,  0,  1,  8,\n",
       "        3,  7,  9,  0,  0,  0,  0,  0,  0,  0,  0,  0,  0,  5,  9,  4,  4,\n",
       "        0,  2,  0,  2,  9,  9,  0,  8,  1,  8,  9,  7,  2,  4,  1,  9,  2,\n",
       "        1,  0,  1,  9,  9,  6,  0,  9,  0,  9,  0,  0,  0,  9,  0,  0,  1,\n",
       "        0,  0,  0, 10,  0,  0,  4,  4,  0, 10,  7,  1,  0,  9,  0,  9,  4,\n",
       "        2,  0,  9,  0,  0, 10,  9,  9,  0,  0,  2, 10,  1,  9,  0,  0,  0,\n",
       "        0,  0,  0,  9,  9,  9,  0,  0,  0,  9,  0,  0,  0,  9,  9,  0,  7,\n",
       "        9,  7,  0,  7,  9,  0,  0,  0,  0,  6,  0,  0,  0,  9,  9,  0,  0,\n",
       "        0,  9,  4,  0,  0,  0,  9,  7,  0,  9,  9,  4,  0,  0,  3,  0,  0,\n",
       "        9,  4,  7,  9,  0,  9,  4,  0,  9,  6,  7,  0,  9,  0, 10,  9,  1,\n",
       "        8,  9,  1,  0,  0,  4,  0,  1,  9,  8,  0, 10,  0,  9,  9,  9,  7,\n",
       "        9,  0,  0,  0,  7,  9,  9,  9,  9,  2,  0,  9,  9,  3,  0,  9,  0,\n",
       "        9,  3,  0, 10,  0,  0,  0,  6,  0,  0,  9,  9,  9,  9,  9,  0,  4,\n",
       "        9,  0,  0, 10,  9, 10,  9,  4, 10,  0,  9,  3,  0,  9,  0,  9,  9,\n",
       "        0,  0,  2,  4,  0,  0,  0,  0,  0, 10,  9,  7,  0,  4,  9, 10,  0,\n",
       "        9,  0,  0,  9,  0,  3,  9,  7,  0,  0,  9,  9,  0,  9,  0,  0,  9,\n",
       "        9,  0,  0,  0,  9,  0,  0,  0,  0,  7,  0,  0,  2,  9,  0,  0,  2,\n",
       "        9,  3,  6,  9,  9,  2,  2,  0,  0,  9,  9,  0,  0,  0,  0,  0,  0,\n",
       "        0,  0,  0,  0,  0,  0,  0,  9,  0,  0,  0,  0,  9,  0,  0,  1,  0,\n",
       "        9,  0,  0,  0,  0,  0,  0,  0,  0,  8,  0,  0,  3,  0,  0,  0,  0,\n",
       "        1,  0,  0, 10,  3,  0,  9,  2,  9,  0,  1,  0,  2,  9,  0,  0,  0,\n",
       "        9,  0,  1,  0,  0,  0,  0,  0,  0,  7,  9,  0,  0,  0,  0,  9,  3,\n",
       "        2,  1,  0,  0,  0,  0,  0,  9,  0,  0,  0,  9,  0,  5,  9,  2,  0,\n",
       "        0,  0,  4,  0,  0,  0,  3,  9,  9,  0,  0,  0,  0,  0,  0,  0,  0,\n",
       "        0,  0,  0,  9,  0,  0,  4,  9,  0,  2,  0,  9,  2,  3,  0,  9,  0,\n",
       "        9,  4,  0,  0,  0,  0,  0,  0,  0,  0,  0,  0,  0,  4,  3,  0,  0,\n",
       "        0,  0,  0,  0,  9,  9,  0,  0,  0,  9,  0,  0,  4,  9,  0,  0,  0,\n",
       "        0,  0,  0,  9,  0,  0,  0,  0,  0,  0,  0,  0,  0,  1,  0,  0,  0,\n",
       "        0,  0,  9,  0,  0,  4,  0,  0,  0,  4,  0,  0,  0,  0,  0,  0,  0,\n",
       "        0,  0,  0,  0,  9,  0,  2,  9,  4,  9,  9,  0,  0,  1,  0,  0,  0,\n",
       "        0,  0,  0,  9,  9,  0,  0,  0,  9,  0,  2,  0,  0,  9,  9,  0,  9,\n",
       "        0,  0,  0,  0,  0,  0,  0,  0,  0,  9,  7,  0,  0,  9,  0,  9,  1,\n",
       "        9,  0,  0,  0,  0, 10,  0,  0,  0,  1,  0,  0,  0,  3,  5,  4,  0,\n",
       "        0,  0,  0,  0,  2,  0,  0,  0,  1,  0,  0,  0,  0,  0,  0,  0,  0,\n",
       "        0,  0,  1,  0,  3,  0,  0,  0,  0,  0,  0,  0,  9,  0,  0,  0,  0,\n",
       "        0,  0,  0,  0,  0,  0,  4,  7,  0,  0,  0,  0,  0,  0,  0,  0,  0,\n",
       "        9,  9,  0,  0,  0,  0,  0,  0,  0,  0,  0,  4,  0,  0,  1,  0,  2,\n",
       "        3,  4], dtype=int64)"
      ]
     },
     "execution_count": 8,
     "metadata": {},
     "output_type": "execute_result"
    }
   ],
   "source": [
    "from sklearn import preprocessing \n",
    "label_encoder = preprocessing.LabelEncoder() \n",
    "label_encoder.fit_transform(data['Bare_Nuclei']) "
   ]
  },
  {
   "cell_type": "code",
   "execution_count": 9,
   "id": "b10e2111",
   "metadata": {},
   "outputs": [
    {
     "data": {
      "text/plain": [
       "array([ 1., 10.,  2.,  4.,  3.,  9.,  7., nan,  5.,  8.,  6.])"
      ]
     },
     "execution_count": 9,
     "metadata": {},
     "output_type": "execute_result"
    }
   ],
   "source": [
    "data['Bare_Nuclei'].unique()"
   ]
  },
  {
   "cell_type": "code",
   "execution_count": 10,
   "id": "e4d763c8",
   "metadata": {},
   "outputs": [
    {
     "data": {
      "text/plain": [
       "Sample_code_number              0\n",
       "Clump_Thickness                 0\n",
       "Uniformity_of_Cell_Size         0\n",
       "Uniformity_of_Cell_Shape        0\n",
       "Marginal_Adhesion               0\n",
       "Single-Epithelial_Cell_Size     0\n",
       "Bare_Nuclei                    16\n",
       "Bland_Chromatin                 0\n",
       "Normal_Nucleoli                 0\n",
       "Mitoses                         0\n",
       "Class                           0\n",
       "dtype: int64"
      ]
     },
     "execution_count": 10,
     "metadata": {},
     "output_type": "execute_result"
    }
   ],
   "source": [
    "data.isnull().sum()"
   ]
  },
  {
   "cell_type": "code",
   "execution_count": 11,
   "id": "e62a6a78",
   "metadata": {},
   "outputs": [],
   "source": [
    "data.Bare_Nuclei.fillna(data.Bare_Nuclei.mean(),inplace = True)"
   ]
  },
  {
   "cell_type": "code",
   "execution_count": 13,
   "id": "c6acf5fd",
   "metadata": {},
   "outputs": [],
   "source": [
    "x=data.drop('Class',axis=1)\n",
    "y=data.Class"
   ]
  },
  {
   "cell_type": "code",
   "execution_count": 14,
   "id": "1a73f377",
   "metadata": {},
   "outputs": [],
   "source": [
    "from sklearn.model_selection import train_test_split\n",
    "x_train , x_test , y_train , y_test = train_test_split(x,y,test_size=0.2,random_state=5, shuffle = False)"
   ]
  },
  {
   "cell_type": "code",
   "execution_count": 15,
   "id": "b0ff23c1",
   "metadata": {},
   "outputs": [],
   "source": [
    "from keras.models import Sequential"
   ]
  },
  {
   "cell_type": "code",
   "execution_count": 16,
   "id": "6c95e326",
   "metadata": {},
   "outputs": [],
   "source": [
    "from keras.layers import Activation,Dense,Dropout"
   ]
  },
  {
   "cell_type": "code",
   "execution_count": 17,
   "id": "31eb4241",
   "metadata": {},
   "outputs": [],
   "source": [
    "model=Sequential()\n",
    "model.add(Dense(8,input_dim=10,activation='relu'))\n",
    "model.add(Dense(32,activation='relu'))\n",
    "model.add(Dense(3,activation='relu'))\n",
    "model.compile(loss='binary_crossentropy',optimizer='adam',metrics='accuracy')"
   ]
  },
  {
   "cell_type": "code",
   "execution_count": 18,
   "id": "ef3f8a08",
   "metadata": {},
   "outputs": [
    {
     "name": "stdout",
     "output_type": "stream",
     "text": [
      "Epoch 1/50\n",
      "22/22 [==============================] - 5s 11ms/step - loss: 19.0694 - accuracy: 0.6552\n",
      "Epoch 2/50\n",
      "22/22 [==============================] - 0s 5ms/step - loss: 19.0694 - accuracy: 0.6552\n",
      "Epoch 3/50\n",
      "22/22 [==============================] - 0s 5ms/step - loss: 19.0694 - accuracy: 0.6552\n",
      "Epoch 4/50\n",
      "22/22 [==============================] - 0s 5ms/step - loss: 19.0694 - accuracy: 0.6552\n",
      "Epoch 5/50\n",
      "22/22 [==============================] - 0s 4ms/step - loss: 19.0694 - accuracy: 0.6552\n",
      "Epoch 6/50\n",
      "22/22 [==============================] - 0s 5ms/step - loss: 19.0694 - accuracy: 0.6552\n",
      "Epoch 7/50\n",
      "22/22 [==============================] - 0s 5ms/step - loss: 19.0694 - accuracy: 0.6552\n",
      "Epoch 8/50\n",
      "22/22 [==============================] - 0s 5ms/step - loss: 19.0694 - accuracy: 0.6552\n",
      "Epoch 9/50\n",
      "22/22 [==============================] - 0s 4ms/step - loss: 19.0694 - accuracy: 0.6552\n",
      "Epoch 10/50\n",
      "22/22 [==============================] - 0s 4ms/step - loss: 19.0694 - accuracy: 0.6552\n",
      "Epoch 11/50\n",
      "22/22 [==============================] - 0s 5ms/step - loss: 19.0694 - accuracy: 0.6552\n",
      "Epoch 12/50\n",
      "22/22 [==============================] - 0s 4ms/step - loss: 19.0694 - accuracy: 0.6552\n",
      "Epoch 13/50\n",
      "22/22 [==============================] - 0s 4ms/step - loss: 19.0694 - accuracy: 0.6552\n",
      "Epoch 14/50\n",
      "22/22 [==============================] - 0s 4ms/step - loss: 19.0694 - accuracy: 0.6552\n",
      "Epoch 15/50\n",
      "22/22 [==============================] - 0s 5ms/step - loss: 19.0694 - accuracy: 0.6552\n",
      "Epoch 16/50\n",
      "22/22 [==============================] - 0s 4ms/step - loss: 19.0694 - accuracy: 0.6552\n",
      "Epoch 17/50\n",
      "22/22 [==============================] - 0s 5ms/step - loss: 19.0694 - accuracy: 0.6552\n",
      "Epoch 18/50\n",
      "22/22 [==============================] - 0s 4ms/step - loss: 19.0694 - accuracy: 0.6552\n",
      "Epoch 19/50\n",
      "22/22 [==============================] - 0s 4ms/step - loss: 19.0694 - accuracy: 0.6552\n",
      "Epoch 20/50\n",
      "22/22 [==============================] - 0s 5ms/step - loss: 19.0694 - accuracy: 0.6552\n",
      "Epoch 21/50\n",
      "22/22 [==============================] - 0s 4ms/step - loss: 19.0694 - accuracy: 0.6552\n",
      "Epoch 22/50\n",
      "22/22 [==============================] - 0s 4ms/step - loss: 19.0694 - accuracy: 0.6552\n",
      "Epoch 23/50\n",
      "22/22 [==============================] - 0s 4ms/step - loss: 19.0694 - accuracy: 0.6552\n",
      "Epoch 24/50\n",
      "22/22 [==============================] - 0s 4ms/step - loss: 19.0694 - accuracy: 0.6552\n",
      "Epoch 25/50\n",
      "22/22 [==============================] - 0s 5ms/step - loss: 19.0694 - accuracy: 0.6552\n",
      "Epoch 26/50\n",
      "22/22 [==============================] - 0s 4ms/step - loss: 19.0694 - accuracy: 0.6552\n",
      "Epoch 27/50\n",
      "22/22 [==============================] - 0s 5ms/step - loss: 19.0694 - accuracy: 0.6552\n",
      "Epoch 28/50\n",
      "22/22 [==============================] - 0s 4ms/step - loss: 19.0694 - accuracy: 0.6552\n",
      "Epoch 29/50\n",
      "22/22 [==============================] - 0s 4ms/step - loss: 19.0694 - accuracy: 0.6552\n",
      "Epoch 30/50\n",
      "22/22 [==============================] - 0s 5ms/step - loss: 19.0694 - accuracy: 0.6552\n",
      "Epoch 31/50\n",
      "22/22 [==============================] - 0s 5ms/step - loss: 19.0694 - accuracy: 0.6552\n",
      "Epoch 32/50\n",
      "22/22 [==============================] - 0s 4ms/step - loss: 19.0694 - accuracy: 0.6552\n",
      "Epoch 33/50\n",
      "22/22 [==============================] - 0s 5ms/step - loss: 19.0694 - accuracy: 0.6552\n",
      "Epoch 34/50\n",
      "22/22 [==============================] - 0s 5ms/step - loss: 19.0694 - accuracy: 0.6552\n",
      "Epoch 35/50\n",
      "22/22 [==============================] - 0s 5ms/step - loss: 19.0694 - accuracy: 0.6552\n",
      "Epoch 36/50\n",
      "22/22 [==============================] - 0s 5ms/step - loss: 19.0694 - accuracy: 0.6552\n",
      "Epoch 37/50\n",
      "22/22 [==============================] - 0s 5ms/step - loss: 19.0694 - accuracy: 0.6552\n",
      "Epoch 38/50\n",
      "22/22 [==============================] - 0s 6ms/step - loss: 19.0694 - accuracy: 0.6552\n",
      "Epoch 39/50\n",
      "22/22 [==============================] - 0s 5ms/step - loss: 19.0694 - accuracy: 0.6552\n",
      "Epoch 40/50\n",
      "22/22 [==============================] - 0s 5ms/step - loss: 19.0694 - accuracy: 0.6552\n",
      "Epoch 41/50\n",
      "22/22 [==============================] - 0s 5ms/step - loss: 19.0694 - accuracy: 0.6552\n",
      "Epoch 42/50\n",
      "22/22 [==============================] - 0s 4ms/step - loss: 19.0694 - accuracy: 0.6552\n",
      "Epoch 43/50\n",
      "22/22 [==============================] - 0s 5ms/step - loss: 19.0694 - accuracy: 0.6552\n",
      "Epoch 44/50\n",
      "22/22 [==============================] - 0s 4ms/step - loss: 19.0694 - accuracy: 0.6552\n",
      "Epoch 45/50\n",
      "22/22 [==============================] - 0s 5ms/step - loss: 19.0694 - accuracy: 0.6552\n",
      "Epoch 46/50\n",
      "22/22 [==============================] - 0s 4ms/step - loss: 19.0694 - accuracy: 0.6552\n",
      "Epoch 47/50\n",
      "22/22 [==============================] - 0s 5ms/step - loss: 19.0694 - accuracy: 0.6552\n",
      "Epoch 48/50\n",
      "22/22 [==============================] - 0s 5ms/step - loss: 19.0694 - accuracy: 0.6552\n",
      "Epoch 49/50\n",
      "22/22 [==============================] - 0s 4ms/step - loss: 19.0694 - accuracy: 0.6552\n",
      "Epoch 50/50\n",
      "22/22 [==============================] - 0s 5ms/step - loss: 19.0694 - accuracy: 0.6552\n"
     ]
    },
    {
     "data": {
      "text/plain": [
       "<keras.callbacks.History at 0x241f4ef20a0>"
      ]
     },
     "execution_count": 18,
     "metadata": {},
     "output_type": "execute_result"
    }
   ],
   "source": [
    "model.fit(x,y,epochs=50)"
   ]
  },
  {
   "cell_type": "code",
   "execution_count": 19,
   "id": "5c92b6c2",
   "metadata": {},
   "outputs": [
    {
     "name": "stdout",
     "output_type": "stream",
     "text": [
      "22/22 [==============================] - 0s 3ms/step - loss: 19.0694 - accuracy: 0.6552\n"
     ]
    },
    {
     "data": {
      "text/plain": [
       "[19.069364547729492, 0.6552217602729797]"
      ]
     },
     "execution_count": 19,
     "metadata": {},
     "output_type": "execute_result"
    }
   ],
   "source": [
    "model.evaluate(x,y)"
   ]
  },
  {
   "cell_type": "code",
   "execution_count": null,
   "id": "0c217247",
   "metadata": {},
   "outputs": [],
   "source": []
  }
 ],
 "metadata": {
  "kernelspec": {
   "display_name": "Python 3 (ipykernel)",
   "language": "python",
   "name": "python3"
  },
  "language_info": {
   "codemirror_mode": {
    "name": "ipython",
    "version": 3
   },
   "file_extension": ".py",
   "mimetype": "text/x-python",
   "name": "python",
   "nbconvert_exporter": "python",
   "pygments_lexer": "ipython3",
   "version": "3.9.7"
  }
 },
 "nbformat": 4,
 "nbformat_minor": 5
}
