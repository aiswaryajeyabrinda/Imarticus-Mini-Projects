{
 "cells": [
  {
   "cell_type": "code",
   "execution_count": 1,
   "id": "eaa56204",
   "metadata": {},
   "outputs": [],
   "source": [
    "import pandas as pd\n",
    "import seaborn as sns\n",
    "import matplotlib.pyplot as plt\n",
    "import numpy as np"
   ]
  },
  {
   "cell_type": "code",
   "execution_count": 2,
   "id": "a37ca29f",
   "metadata": {},
   "outputs": [],
   "source": [
    "data = pd.read_csv(\"https://gist.githubusercontent.com/curran/a08a1080b88344b0c8a7/raw/0e7a9b0a5d22642a06d3d5b9bcbad9890c8ee534/iris.csv\")"
   ]
  },
  {
   "cell_type": "code",
   "execution_count": 3,
   "id": "4058ea39",
   "metadata": {},
   "outputs": [
    {
     "data": {
      "text/html": [
       "<div>\n",
       "<style scoped>\n",
       "    .dataframe tbody tr th:only-of-type {\n",
       "        vertical-align: middle;\n",
       "    }\n",
       "\n",
       "    .dataframe tbody tr th {\n",
       "        vertical-align: top;\n",
       "    }\n",
       "\n",
       "    .dataframe thead th {\n",
       "        text-align: right;\n",
       "    }\n",
       "</style>\n",
       "<table border=\"1\" class=\"dataframe\">\n",
       "  <thead>\n",
       "    <tr style=\"text-align: right;\">\n",
       "      <th></th>\n",
       "      <th>sepal_length</th>\n",
       "      <th>sepal_width</th>\n",
       "      <th>petal_length</th>\n",
       "      <th>petal_width</th>\n",
       "      <th>species</th>\n",
       "    </tr>\n",
       "  </thead>\n",
       "  <tbody>\n",
       "    <tr>\n",
       "      <th>0</th>\n",
       "      <td>5.1</td>\n",
       "      <td>3.5</td>\n",
       "      <td>1.4</td>\n",
       "      <td>0.2</td>\n",
       "      <td>setosa</td>\n",
       "    </tr>\n",
       "    <tr>\n",
       "      <th>1</th>\n",
       "      <td>4.9</td>\n",
       "      <td>3.0</td>\n",
       "      <td>1.4</td>\n",
       "      <td>0.2</td>\n",
       "      <td>setosa</td>\n",
       "    </tr>\n",
       "    <tr>\n",
       "      <th>2</th>\n",
       "      <td>4.7</td>\n",
       "      <td>3.2</td>\n",
       "      <td>1.3</td>\n",
       "      <td>0.2</td>\n",
       "      <td>setosa</td>\n",
       "    </tr>\n",
       "    <tr>\n",
       "      <th>3</th>\n",
       "      <td>4.6</td>\n",
       "      <td>3.1</td>\n",
       "      <td>1.5</td>\n",
       "      <td>0.2</td>\n",
       "      <td>setosa</td>\n",
       "    </tr>\n",
       "    <tr>\n",
       "      <th>4</th>\n",
       "      <td>5.0</td>\n",
       "      <td>3.6</td>\n",
       "      <td>1.4</td>\n",
       "      <td>0.2</td>\n",
       "      <td>setosa</td>\n",
       "    </tr>\n",
       "  </tbody>\n",
       "</table>\n",
       "</div>"
      ],
      "text/plain": [
       "   sepal_length  sepal_width  petal_length  petal_width species\n",
       "0           5.1          3.5           1.4          0.2  setosa\n",
       "1           4.9          3.0           1.4          0.2  setosa\n",
       "2           4.7          3.2           1.3          0.2  setosa\n",
       "3           4.6          3.1           1.5          0.2  setosa\n",
       "4           5.0          3.6           1.4          0.2  setosa"
      ]
     },
     "execution_count": 3,
     "metadata": {},
     "output_type": "execute_result"
    }
   ],
   "source": [
    "data.head()"
   ]
  },
  {
   "cell_type": "code",
   "execution_count": 4,
   "id": "93eaf435",
   "metadata": {},
   "outputs": [
    {
     "data": {
      "text/html": [
       "<div>\n",
       "<style scoped>\n",
       "    .dataframe tbody tr th:only-of-type {\n",
       "        vertical-align: middle;\n",
       "    }\n",
       "\n",
       "    .dataframe tbody tr th {\n",
       "        vertical-align: top;\n",
       "    }\n",
       "\n",
       "    .dataframe thead th {\n",
       "        text-align: right;\n",
       "    }\n",
       "</style>\n",
       "<table border=\"1\" class=\"dataframe\">\n",
       "  <thead>\n",
       "    <tr style=\"text-align: right;\">\n",
       "      <th></th>\n",
       "      <th>sepal_length</th>\n",
       "      <th>sepal_width</th>\n",
       "      <th>petal_length</th>\n",
       "      <th>petal_width</th>\n",
       "      <th>species</th>\n",
       "    </tr>\n",
       "  </thead>\n",
       "  <tbody>\n",
       "    <tr>\n",
       "      <th>145</th>\n",
       "      <td>6.7</td>\n",
       "      <td>3.0</td>\n",
       "      <td>5.2</td>\n",
       "      <td>2.3</td>\n",
       "      <td>virginica</td>\n",
       "    </tr>\n",
       "    <tr>\n",
       "      <th>146</th>\n",
       "      <td>6.3</td>\n",
       "      <td>2.5</td>\n",
       "      <td>5.0</td>\n",
       "      <td>1.9</td>\n",
       "      <td>virginica</td>\n",
       "    </tr>\n",
       "    <tr>\n",
       "      <th>147</th>\n",
       "      <td>6.5</td>\n",
       "      <td>3.0</td>\n",
       "      <td>5.2</td>\n",
       "      <td>2.0</td>\n",
       "      <td>virginica</td>\n",
       "    </tr>\n",
       "    <tr>\n",
       "      <th>148</th>\n",
       "      <td>6.2</td>\n",
       "      <td>3.4</td>\n",
       "      <td>5.4</td>\n",
       "      <td>2.3</td>\n",
       "      <td>virginica</td>\n",
       "    </tr>\n",
       "    <tr>\n",
       "      <th>149</th>\n",
       "      <td>5.9</td>\n",
       "      <td>3.0</td>\n",
       "      <td>5.1</td>\n",
       "      <td>1.8</td>\n",
       "      <td>virginica</td>\n",
       "    </tr>\n",
       "  </tbody>\n",
       "</table>\n",
       "</div>"
      ],
      "text/plain": [
       "     sepal_length  sepal_width  petal_length  petal_width    species\n",
       "145           6.7          3.0           5.2          2.3  virginica\n",
       "146           6.3          2.5           5.0          1.9  virginica\n",
       "147           6.5          3.0           5.2          2.0  virginica\n",
       "148           6.2          3.4           5.4          2.3  virginica\n",
       "149           5.9          3.0           5.1          1.8  virginica"
      ]
     },
     "execution_count": 4,
     "metadata": {},
     "output_type": "execute_result"
    }
   ],
   "source": [
    "data.tail()"
   ]
  },
  {
   "cell_type": "code",
   "execution_count": 5,
   "id": "2c9bafe3",
   "metadata": {},
   "outputs": [
    {
     "data": {
      "text/plain": [
       "Index(['sepal_length', 'sepal_width', 'petal_length', 'petal_width',\n",
       "       'species'],\n",
       "      dtype='object')"
      ]
     },
     "execution_count": 5,
     "metadata": {},
     "output_type": "execute_result"
    }
   ],
   "source": [
    "data.columns"
   ]
  },
  {
   "cell_type": "code",
   "execution_count": 6,
   "id": "f2b28625",
   "metadata": {},
   "outputs": [
    {
     "data": {
      "text/plain": [
       "(150, 5)"
      ]
     },
     "execution_count": 6,
     "metadata": {},
     "output_type": "execute_result"
    }
   ],
   "source": [
    "data.shape"
   ]
  },
  {
   "cell_type": "code",
   "execution_count": 7,
   "id": "1b6c68e5",
   "metadata": {},
   "outputs": [
    {
     "data": {
      "text/plain": [
       "sepal_length    0\n",
       "sepal_width     0\n",
       "petal_length    0\n",
       "petal_width     0\n",
       "species         0\n",
       "dtype: int64"
      ]
     },
     "execution_count": 7,
     "metadata": {},
     "output_type": "execute_result"
    }
   ],
   "source": [
    "data.isnull().sum()"
   ]
  },
  {
   "cell_type": "code",
   "execution_count": 8,
   "id": "70f7e42e",
   "metadata": {},
   "outputs": [],
   "source": [
    "x=data.drop('species',axis=1)\n",
    "y=data.species"
   ]
  },
  {
   "cell_type": "code",
   "execution_count": 9,
   "id": "50c74e75",
   "metadata": {},
   "outputs": [],
   "source": [
    "from sklearn import preprocessing #converts string value to 1,2,3\n",
    "label_encoder = preprocessing.LabelEncoder() \n",
    "y = label_encoder.fit_transform(data['species'])"
   ]
  },
  {
   "cell_type": "code",
   "execution_count": 10,
   "id": "8376a72e",
   "metadata": {},
   "outputs": [
    {
     "data": {
      "text/plain": [
       "array(['setosa', 'versicolor', 'virginica'], dtype=object)"
      ]
     },
     "execution_count": 10,
     "metadata": {},
     "output_type": "execute_result"
    }
   ],
   "source": [
    "data['species'].unique()"
   ]
  },
  {
   "cell_type": "code",
   "execution_count": 11,
   "id": "92e0bc22",
   "metadata": {},
   "outputs": [],
   "source": [
    "from keras.models import Sequential"
   ]
  },
  {
   "cell_type": "code",
   "execution_count": 12,
   "id": "92d5d4ab",
   "metadata": {},
   "outputs": [],
   "source": [
    "from keras.layers import Activation,Dense"
   ]
  },
  {
   "cell_type": "code",
   "execution_count": 13,
   "id": "3926b601",
   "metadata": {},
   "outputs": [],
   "source": [
    "model = Sequential() #creating sequentisl model\n",
    "model.add(Dense(8, input_dim = 4, activation = 'relu'))\n",
    "model.add(Dense(32,activation = 'relu'))\n",
    "model.add(Dense(3,activation = 'relu'))\n",
    "model.compile(loss = 'binary_crossentropy', optimizer = 'adam', metrics = 'accuracy')"
   ]
  },
  {
   "cell_type": "code",
   "execution_count": 14,
   "id": "d60dedca",
   "metadata": {},
   "outputs": [
    {
     "name": "stdout",
     "output_type": "stream",
     "text": [
      "Epoch 1/50\n",
      "5/5 [==============================] - 6s 20ms/step - loss: 11.3437 - accuracy: 0.3333\n",
      "Epoch 2/50\n",
      "5/5 [==============================] - 0s 7ms/step - loss: 11.0046 - accuracy: 0.3333\n",
      "Epoch 3/50\n",
      "5/5 [==============================] - 0s 8ms/step - loss: 10.8645 - accuracy: 0.3333\n",
      "Epoch 4/50\n",
      "5/5 [==============================] - 0s 7ms/step - loss: 10.7796 - accuracy: 0.3333\n",
      "Epoch 5/50\n",
      "5/5 [==============================] - 0s 7ms/step - loss: 10.7166 - accuracy: 0.3333\n",
      "Epoch 6/50\n",
      "5/5 [==============================] - 0s 6ms/step - loss: 10.6680 - accuracy: 0.3333\n",
      "Epoch 7/50\n",
      "5/5 [==============================] - 0s 7ms/step - loss: 10.6287 - accuracy: 0.3333\n",
      "Epoch 8/50\n",
      "5/5 [==============================] - 0s 6ms/step - loss: 10.5944 - accuracy: 0.3333\n",
      "Epoch 9/50\n",
      "5/5 [==============================] - 0s 7ms/step - loss: 10.5653 - accuracy: 0.3333\n",
      "Epoch 10/50\n",
      "5/5 [==============================] - 0s 7ms/step - loss: 10.5354 - accuracy: 0.3333\n",
      "Epoch 11/50\n",
      "5/5 [==============================] - 0s 7ms/step - loss: 10.5131 - accuracy: 0.3333\n",
      "Epoch 12/50\n",
      "5/5 [==============================] - 0s 6ms/step - loss: 10.4905 - accuracy: 0.3333\n",
      "Epoch 13/50\n",
      "5/5 [==============================] - 0s 7ms/step - loss: 10.4684 - accuracy: 0.3333\n",
      "Epoch 14/50\n",
      "5/5 [==============================] - 0s 6ms/step - loss: 10.4499 - accuracy: 0.3333\n",
      "Epoch 15/50\n",
      "5/5 [==============================] - 0s 7ms/step - loss: 10.4331 - accuracy: 0.3333\n",
      "Epoch 16/50\n",
      "5/5 [==============================] - 0s 6ms/step - loss: 10.4201 - accuracy: 0.3333\n",
      "Epoch 17/50\n",
      "5/5 [==============================] - 0s 6ms/step - loss: 10.4130 - accuracy: 0.3333\n",
      "Epoch 18/50\n",
      "5/5 [==============================] - 0s 6ms/step - loss: 10.4014 - accuracy: 0.3333\n",
      "Epoch 19/50\n",
      "5/5 [==============================] - 0s 8ms/step - loss: 10.3960 - accuracy: 0.3333\n",
      "Epoch 20/50\n",
      "5/5 [==============================] - 0s 6ms/step - loss: 10.3879 - accuracy: 0.3333\n",
      "Epoch 21/50\n",
      "5/5 [==============================] - 0s 6ms/step - loss: 10.3794 - accuracy: 0.3333\n",
      "Epoch 22/50\n",
      "5/5 [==============================] - 0s 8ms/step - loss: 10.3935 - accuracy: 0.3333\n",
      "Epoch 23/50\n",
      "5/5 [==============================] - 0s 5ms/step - loss: 10.3557 - accuracy: 0.3333\n",
      "Epoch 24/50\n",
      "5/5 [==============================] - 0s 6ms/step - loss: 10.3966 - accuracy: 0.3333\n",
      "Epoch 25/50\n",
      "5/5 [==============================] - 0s 6ms/step - loss: 10.2193 - accuracy: 0.3333\n",
      "Epoch 26/50\n",
      "5/5 [==============================] - 0s 7ms/step - loss: 10.1237 - accuracy: 0.3333\n",
      "Epoch 27/50\n",
      "5/5 [==============================] - 0s 7ms/step - loss: 10.2240 - accuracy: 0.3333\n",
      "Epoch 28/50\n",
      "5/5 [==============================] - 0s 6ms/step - loss: 10.2912 - accuracy: 0.3333\n",
      "Epoch 29/50\n",
      "5/5 [==============================] - 0s 5ms/step - loss: 10.3010 - accuracy: 0.3333\n",
      "Epoch 30/50\n",
      "5/5 [==============================] - 0s 17ms/step - loss: 10.2958 - accuracy: 0.3333\n",
      "Epoch 31/50\n",
      "5/5 [==============================] - 0s 7ms/step - loss: 10.2600 - accuracy: 0.3333\n",
      "Epoch 32/50\n",
      "5/5 [==============================] - 0s 7ms/step - loss: 10.2434 - accuracy: 0.3333\n",
      "Epoch 33/50\n",
      "5/5 [==============================] - 0s 7ms/step - loss: 10.1866 - accuracy: 0.3333\n",
      "Epoch 34/50\n",
      "5/5 [==============================] - 0s 6ms/step - loss: 9.8759 - accuracy: 0.3333\n",
      "Epoch 35/50\n",
      "5/5 [==============================] - 0s 4ms/step - loss: 9.8246 - accuracy: 0.3333\n",
      "Epoch 36/50\n",
      "5/5 [==============================] - 0s 7ms/step - loss: 9.8057 - accuracy: 0.3333\n",
      "Epoch 37/50\n",
      "5/5 [==============================] - 0s 7ms/step - loss: 9.7736 - accuracy: 0.3333\n",
      "Epoch 38/50\n",
      "5/5 [==============================] - 0s 6ms/step - loss: 9.7291 - accuracy: 0.3333\n",
      "Epoch 39/50\n",
      "5/5 [==============================] - 0s 6ms/step - loss: 9.7202 - accuracy: 0.3333\n",
      "Epoch 40/50\n",
      "5/5 [==============================] - 0s 6ms/step - loss: 9.6717 - accuracy: 0.3333\n",
      "Epoch 41/50\n",
      "5/5 [==============================] - 0s 6ms/step - loss: 9.7364 - accuracy: 0.3333\n",
      "Epoch 42/50\n",
      "5/5 [==============================] - 0s 7ms/step - loss: 9.8171 - accuracy: 0.3333\n",
      "Epoch 43/50\n",
      "5/5 [==============================] - 0s 7ms/step - loss: 9.8044 - accuracy: 0.3333\n",
      "Epoch 44/50\n",
      "5/5 [==============================] - 0s 6ms/step - loss: 10.0331 - accuracy: 0.3333\n",
      "Epoch 45/50\n",
      "5/5 [==============================] - 0s 7ms/step - loss: 10.1819 - accuracy: 0.3333\n",
      "Epoch 46/50\n",
      "5/5 [==============================] - 0s 6ms/step - loss: 10.0827 - accuracy: 0.3333\n",
      "Epoch 47/50\n",
      "5/5 [==============================] - 0s 6ms/step - loss: 9.8076 - accuracy: 0.3333\n",
      "Epoch 48/50\n",
      "5/5 [==============================] - 0s 6ms/step - loss: 9.5994 - accuracy: 0.3333\n",
      "Epoch 49/50\n",
      "5/5 [==============================] - 0s 6ms/step - loss: 9.6356 - accuracy: 0.3333\n",
      "Epoch 50/50\n",
      "5/5 [==============================] - 0s 6ms/step - loss: 9.6039 - accuracy: 0.3333\n"
     ]
    },
    {
     "data": {
      "text/plain": [
       "<keras.callbacks.History at 0x1bb325bcd30>"
      ]
     },
     "execution_count": 14,
     "metadata": {},
     "output_type": "execute_result"
    }
   ],
   "source": [
    "model.fit(x,y,epochs=50)"
   ]
  },
  {
   "cell_type": "code",
   "execution_count": 146,
   "id": "ba73eb37",
   "metadata": {},
   "outputs": [
    {
     "name": "stdout",
     "output_type": "stream",
     "text": [
      "5/5 [==============================] - 2s 5ms/step - loss: 1.7654 - accuracy: 0.0733\n"
     ]
    },
    {
     "data": {
      "text/plain": [
       "[1.765371322631836, 0.07333333045244217]"
      ]
     },
     "execution_count": 146,
     "metadata": {},
     "output_type": "execute_result"
    }
   ],
   "source": [
    "model.evaluate(x,y)"
   ]
  },
  {
   "cell_type": "code",
   "execution_count": null,
   "id": "6cfb7b95",
   "metadata": {},
   "outputs": [],
   "source": []
  }
 ],
 "metadata": {
  "kernelspec": {
   "display_name": "Python 3 (ipykernel)",
   "language": "python",
   "name": "python3"
  },
  "language_info": {
   "codemirror_mode": {
    "name": "ipython",
    "version": 3
   },
   "file_extension": ".py",
   "mimetype": "text/x-python",
   "name": "python",
   "nbconvert_exporter": "python",
   "pygments_lexer": "ipython3",
   "version": "3.9.7"
  }
 },
 "nbformat": 4,
 "nbformat_minor": 5
}
