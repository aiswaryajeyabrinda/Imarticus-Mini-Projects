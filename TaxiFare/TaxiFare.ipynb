{
 "cells": [
  {
   "cell_type": "code",
   "execution_count": 46,
   "id": "dad5caf3",
   "metadata": {},
   "outputs": [],
   "source": [
    "import pandas as pd\n",
    "import seaborn as sns\n",
    "import matplotlib.pyplot as plt\n",
    "import numpy as np"
   ]
  },
  {
   "cell_type": "code",
   "execution_count": 47,
   "id": "9e0986c7",
   "metadata": {},
   "outputs": [],
   "source": [
    "data = pd.read_csv(\"C:/Users/senth/Downloads/TaxiFare.csv\")"
   ]
  },
  {
   "cell_type": "code",
   "execution_count": 48,
   "id": "2f338086",
   "metadata": {},
   "outputs": [
    {
     "data": {
      "text/html": [
       "<div>\n",
       "<style scoped>\n",
       "    .dataframe tbody tr th:only-of-type {\n",
       "        vertical-align: middle;\n",
       "    }\n",
       "\n",
       "    .dataframe tbody tr th {\n",
       "        vertical-align: top;\n",
       "    }\n",
       "\n",
       "    .dataframe thead th {\n",
       "        text-align: right;\n",
       "    }\n",
       "</style>\n",
       "<table border=\"1\" class=\"dataframe\">\n",
       "  <thead>\n",
       "    <tr style=\"text-align: right;\">\n",
       "      <th></th>\n",
       "      <th>unique_id</th>\n",
       "      <th>amount</th>\n",
       "      <th>date_time_of_pickup</th>\n",
       "      <th>longitude_of_pickup</th>\n",
       "      <th>latitude_of_pickup</th>\n",
       "      <th>longitude_of_dropoff</th>\n",
       "      <th>latitude_of_dropoff</th>\n",
       "      <th>no_of_passenger</th>\n",
       "    </tr>\n",
       "  </thead>\n",
       "  <tbody>\n",
       "    <tr>\n",
       "      <th>0</th>\n",
       "      <td>26:21.0</td>\n",
       "      <td>4.5</td>\n",
       "      <td>2009-06-15 17:26:21 UTC</td>\n",
       "      <td>-73.844311</td>\n",
       "      <td>40.721319</td>\n",
       "      <td>-73.841610</td>\n",
       "      <td>40.712278</td>\n",
       "      <td>1</td>\n",
       "    </tr>\n",
       "    <tr>\n",
       "      <th>1</th>\n",
       "      <td>52:16.0</td>\n",
       "      <td>16.9</td>\n",
       "      <td>2010-01-05 16:52:16 UTC</td>\n",
       "      <td>-74.016048</td>\n",
       "      <td>40.711303</td>\n",
       "      <td>-73.979268</td>\n",
       "      <td>40.782004</td>\n",
       "      <td>1</td>\n",
       "    </tr>\n",
       "    <tr>\n",
       "      <th>2</th>\n",
       "      <td>35:00.0</td>\n",
       "      <td>5.7</td>\n",
       "      <td>2011-08-18 00:35:00 UTC</td>\n",
       "      <td>-73.982738</td>\n",
       "      <td>40.761270</td>\n",
       "      <td>-73.991242</td>\n",
       "      <td>40.750562</td>\n",
       "      <td>2</td>\n",
       "    </tr>\n",
       "    <tr>\n",
       "      <th>3</th>\n",
       "      <td>30:42.0</td>\n",
       "      <td>7.7</td>\n",
       "      <td>2012-04-21 04:30:42 UTC</td>\n",
       "      <td>-73.987130</td>\n",
       "      <td>40.733143</td>\n",
       "      <td>-73.991567</td>\n",
       "      <td>40.758092</td>\n",
       "      <td>1</td>\n",
       "    </tr>\n",
       "    <tr>\n",
       "      <th>4</th>\n",
       "      <td>51:00.0</td>\n",
       "      <td>5.3</td>\n",
       "      <td>2010-03-09 07:51:00 UTC</td>\n",
       "      <td>-73.968095</td>\n",
       "      <td>40.768008</td>\n",
       "      <td>-73.956655</td>\n",
       "      <td>40.783762</td>\n",
       "      <td>1</td>\n",
       "    </tr>\n",
       "  </tbody>\n",
       "</table>\n",
       "</div>"
      ],
      "text/plain": [
       "  unique_id  amount      date_time_of_pickup  longitude_of_pickup  \\\n",
       "0   26:21.0     4.5  2009-06-15 17:26:21 UTC           -73.844311   \n",
       "1   52:16.0    16.9  2010-01-05 16:52:16 UTC           -74.016048   \n",
       "2   35:00.0     5.7  2011-08-18 00:35:00 UTC           -73.982738   \n",
       "3   30:42.0     7.7  2012-04-21 04:30:42 UTC           -73.987130   \n",
       "4   51:00.0     5.3  2010-03-09 07:51:00 UTC           -73.968095   \n",
       "\n",
       "   latitude_of_pickup  longitude_of_dropoff  latitude_of_dropoff  \\\n",
       "0           40.721319            -73.841610            40.712278   \n",
       "1           40.711303            -73.979268            40.782004   \n",
       "2           40.761270            -73.991242            40.750562   \n",
       "3           40.733143            -73.991567            40.758092   \n",
       "4           40.768008            -73.956655            40.783762   \n",
       "\n",
       "   no_of_passenger  \n",
       "0                1  \n",
       "1                1  \n",
       "2                2  \n",
       "3                1  \n",
       "4                1  "
      ]
     },
     "execution_count": 48,
     "metadata": {},
     "output_type": "execute_result"
    }
   ],
   "source": [
    "data.head()"
   ]
  },
  {
   "cell_type": "code",
   "execution_count": 49,
   "id": "102f5127",
   "metadata": {},
   "outputs": [
    {
     "data": {
      "text/html": [
       "<div>\n",
       "<style scoped>\n",
       "    .dataframe tbody tr th:only-of-type {\n",
       "        vertical-align: middle;\n",
       "    }\n",
       "\n",
       "    .dataframe tbody tr th {\n",
       "        vertical-align: top;\n",
       "    }\n",
       "\n",
       "    .dataframe thead th {\n",
       "        text-align: right;\n",
       "    }\n",
       "</style>\n",
       "<table border=\"1\" class=\"dataframe\">\n",
       "  <thead>\n",
       "    <tr style=\"text-align: right;\">\n",
       "      <th></th>\n",
       "      <th>unique_id</th>\n",
       "      <th>amount</th>\n",
       "      <th>date_time_of_pickup</th>\n",
       "      <th>longitude_of_pickup</th>\n",
       "      <th>latitude_of_pickup</th>\n",
       "      <th>longitude_of_dropoff</th>\n",
       "      <th>latitude_of_dropoff</th>\n",
       "      <th>no_of_passenger</th>\n",
       "    </tr>\n",
       "  </thead>\n",
       "  <tbody>\n",
       "    <tr>\n",
       "      <th>49995</th>\n",
       "      <td>25:15.0</td>\n",
       "      <td>15.0</td>\n",
       "      <td>2013-06-12 23:25:15 UTC</td>\n",
       "      <td>-73.999973</td>\n",
       "      <td>40.748531</td>\n",
       "      <td>-74.016899</td>\n",
       "      <td>40.705993</td>\n",
       "      <td>1</td>\n",
       "    </tr>\n",
       "    <tr>\n",
       "      <th>49996</th>\n",
       "      <td>19:18.0</td>\n",
       "      <td>7.5</td>\n",
       "      <td>2015-06-22 17:19:18 UTC</td>\n",
       "      <td>-73.984756</td>\n",
       "      <td>40.768211</td>\n",
       "      <td>-73.987366</td>\n",
       "      <td>40.760597</td>\n",
       "      <td>1</td>\n",
       "    </tr>\n",
       "    <tr>\n",
       "      <th>49997</th>\n",
       "      <td>53:00.0</td>\n",
       "      <td>6.9</td>\n",
       "      <td>2011-01-30 04:53:00 UTC</td>\n",
       "      <td>-74.002698</td>\n",
       "      <td>40.739428</td>\n",
       "      <td>-73.998108</td>\n",
       "      <td>40.759483</td>\n",
       "      <td>1</td>\n",
       "    </tr>\n",
       "    <tr>\n",
       "      <th>49998</th>\n",
       "      <td>09:00.0</td>\n",
       "      <td>4.5</td>\n",
       "      <td>2012-11-06 07:09:00 UTC</td>\n",
       "      <td>-73.946062</td>\n",
       "      <td>40.777567</td>\n",
       "      <td>-73.953450</td>\n",
       "      <td>40.779687</td>\n",
       "      <td>2</td>\n",
       "    </tr>\n",
       "    <tr>\n",
       "      <th>49999</th>\n",
       "      <td>13:14.0</td>\n",
       "      <td>10.9</td>\n",
       "      <td>2010-01-13 08:13:14 UTC</td>\n",
       "      <td>-73.932603</td>\n",
       "      <td>40.763805</td>\n",
       "      <td>-73.932603</td>\n",
       "      <td>40.763805</td>\n",
       "      <td>1</td>\n",
       "    </tr>\n",
       "  </tbody>\n",
       "</table>\n",
       "</div>"
      ],
      "text/plain": [
       "      unique_id  amount      date_time_of_pickup  longitude_of_pickup  \\\n",
       "49995   25:15.0    15.0  2013-06-12 23:25:15 UTC           -73.999973   \n",
       "49996   19:18.0     7.5  2015-06-22 17:19:18 UTC           -73.984756   \n",
       "49997   53:00.0     6.9  2011-01-30 04:53:00 UTC           -74.002698   \n",
       "49998   09:00.0     4.5  2012-11-06 07:09:00 UTC           -73.946062   \n",
       "49999   13:14.0    10.9  2010-01-13 08:13:14 UTC           -73.932603   \n",
       "\n",
       "       latitude_of_pickup  longitude_of_dropoff  latitude_of_dropoff  \\\n",
       "49995           40.748531            -74.016899            40.705993   \n",
       "49996           40.768211            -73.987366            40.760597   \n",
       "49997           40.739428            -73.998108            40.759483   \n",
       "49998           40.777567            -73.953450            40.779687   \n",
       "49999           40.763805            -73.932603            40.763805   \n",
       "\n",
       "       no_of_passenger  \n",
       "49995                1  \n",
       "49996                1  \n",
       "49997                1  \n",
       "49998                2  \n",
       "49999                1  "
      ]
     },
     "execution_count": 49,
     "metadata": {},
     "output_type": "execute_result"
    }
   ],
   "source": [
    "data.tail()"
   ]
  },
  {
   "cell_type": "code",
   "execution_count": 50,
   "id": "185346a5",
   "metadata": {},
   "outputs": [
    {
     "data": {
      "text/plain": [
       "(50000, 8)"
      ]
     },
     "execution_count": 50,
     "metadata": {},
     "output_type": "execute_result"
    }
   ],
   "source": [
    "data.shape"
   ]
  },
  {
   "cell_type": "code",
   "execution_count": 51,
   "id": "66751db6",
   "metadata": {},
   "outputs": [
    {
     "data": {
      "text/plain": [
       "Index(['unique_id', 'amount', 'date_time_of_pickup', 'longitude_of_pickup',\n",
       "       'latitude_of_pickup', 'longitude_of_dropoff', 'latitude_of_dropoff',\n",
       "       'no_of_passenger'],\n",
       "      dtype='object')"
      ]
     },
     "execution_count": 51,
     "metadata": {},
     "output_type": "execute_result"
    }
   ],
   "source": [
    "data.columns"
   ]
  },
  {
   "cell_type": "code",
   "execution_count": 52,
   "id": "c6176203",
   "metadata": {},
   "outputs": [
    {
     "data": {
      "text/plain": [
       "unique_id                3597\n",
       "amount                    703\n",
       "date_time_of_pickup     49555\n",
       "longitude_of_pickup     33716\n",
       "latitude_of_pickup      36594\n",
       "longitude_of_dropoff    34878\n",
       "latitude_of_dropoff     37423\n",
       "no_of_passenger             7\n",
       "dtype: int64"
      ]
     },
     "execution_count": 52,
     "metadata": {},
     "output_type": "execute_result"
    }
   ],
   "source": [
    "data.nunique()"
   ]
  },
  {
   "cell_type": "code",
   "execution_count": 53,
   "id": "afff0de7",
   "metadata": {},
   "outputs": [
    {
     "name": "stdout",
     "output_type": "stream",
     "text": [
      "<class 'pandas.core.frame.DataFrame'>\n",
      "RangeIndex: 50000 entries, 0 to 49999\n",
      "Data columns (total 8 columns):\n",
      " #   Column                Non-Null Count  Dtype  \n",
      "---  ------                --------------  -----  \n",
      " 0   unique_id             50000 non-null  object \n",
      " 1   amount                50000 non-null  float64\n",
      " 2   date_time_of_pickup   50000 non-null  object \n",
      " 3   longitude_of_pickup   50000 non-null  float64\n",
      " 4   latitude_of_pickup    50000 non-null  float64\n",
      " 5   longitude_of_dropoff  50000 non-null  float64\n",
      " 6   latitude_of_dropoff   50000 non-null  float64\n",
      " 7   no_of_passenger       50000 non-null  int64  \n",
      "dtypes: float64(5), int64(1), object(2)\n",
      "memory usage: 3.1+ MB\n"
     ]
    }
   ],
   "source": [
    "data.info()"
   ]
  },
  {
   "cell_type": "code",
   "execution_count": 54,
   "id": "e9b02d65",
   "metadata": {},
   "outputs": [
    {
     "data": {
      "text/plain": [
       "unique_id               0\n",
       "amount                  0\n",
       "date_time_of_pickup     0\n",
       "longitude_of_pickup     0\n",
       "latitude_of_pickup      0\n",
       "longitude_of_dropoff    0\n",
       "latitude_of_dropoff     0\n",
       "no_of_passenger         0\n",
       "dtype: int64"
      ]
     },
     "execution_count": 54,
     "metadata": {},
     "output_type": "execute_result"
    }
   ],
   "source": [
    "data.isnull().sum()"
   ]
  },
  {
   "cell_type": "code",
   "execution_count": 55,
   "id": "a42cce68",
   "metadata": {},
   "outputs": [],
   "source": [
    "data = data.drop(['unique_id','date_time_of_pickup'],axis = 1)"
   ]
  },
  {
   "cell_type": "code",
   "execution_count": 56,
   "id": "045b689e",
   "metadata": {},
   "outputs": [
    {
     "data": {
      "text/plain": [
       "Index(['amount', 'longitude_of_pickup', 'latitude_of_pickup',\n",
       "       'longitude_of_dropoff', 'latitude_of_dropoff', 'no_of_passenger'],\n",
       "      dtype='object')"
      ]
     },
     "execution_count": 56,
     "metadata": {},
     "output_type": "execute_result"
    }
   ],
   "source": [
    "data.columns"
   ]
  },
  {
   "cell_type": "code",
   "execution_count": 57,
   "id": "feccf0ae",
   "metadata": {},
   "outputs": [
    {
     "data": {
      "text/plain": [
       "{'whiskers': [<matplotlib.lines.Line2D at 0x17ec129d7f0>,\n",
       "  <matplotlib.lines.Line2D at 0x17ec129db80>],\n",
       " 'caps': [<matplotlib.lines.Line2D at 0x17ec129df10>,\n",
       "  <matplotlib.lines.Line2D at 0x17ec12a72e0>],\n",
       " 'boxes': [<matplotlib.lines.Line2D at 0x17ec129d460>],\n",
       " 'medians': [<matplotlib.lines.Line2D at 0x17ec12a7670>],\n",
       " 'fliers': [<matplotlib.lines.Line2D at 0x17ec12a7a00>],\n",
       " 'means': []}"
      ]
     },
     "execution_count": 57,
     "metadata": {},
     "output_type": "execute_result"
    },
    {
     "data": {
      "image/png": "[encoded data removed]",
      "text/plain": [
       "<Figure size 432x288 with 1 Axes>"
      ]
     },
     "metadata": {
      "needs_background": "light"
     },
     "output_type": "display_data"
    }
   ],
   "source": [
    "plt.boxplot(data.longitude_of_pickup)"
   ]
  },
  {
   "cell_type": "code",
   "execution_count": 58,
   "id": "f47af236",
   "metadata": {},
   "outputs": [],
   "source": [
    "q3=data.longitude_of_pickup.quantile(0.75)\n",
    "q1=data.longitude_of_pickup.quantile(0.25)\n",
    "iqr=q3-q1"
   ]
  },
  {
   "cell_type": "code",
   "execution_count": 59,
   "id": "0715d8bd",
   "metadata": {},
   "outputs": [],
   "source": [
    "UE=q3+1.5*(iqr)\n",
    "LE=q1-1.5*(iqr)"
   ]
  },
  {
   "cell_type": "code",
   "execution_count": 60,
   "id": "83a793f2",
   "metadata": {},
   "outputs": [
    {
     "name": "stderr",
     "output_type": "stream",
     "text": [
      "C:\\Users\\senth\\AppData\\Local\\Temp/ipykernel_11416/1421105477.py:1: SettingWithCopyWarning: \n",
      "A value is trying to be set on a copy of a slice from a DataFrame\n",
      "\n",
      "See the caveats in the documentation: https://pandas.pydata.org/pandas-docs/stable/user_guide/indexing.html#returning-a-view-versus-a-copy\n",
      "  data.longitude_of_pickup[data.longitude_of_pickup>UE]=UE\n",
      "C:\\Users\\senth\\AppData\\Local\\Temp/ipykernel_11416/1421105477.py:2: SettingWithCopyWarning: \n",
      "A value is trying to be set on a copy of a slice from a DataFrame\n",
      "\n",
      "See the caveats in the documentation: https://pandas.pydata.org/pandas-docs/stable/user_guide/indexing.html#returning-a-view-versus-a-copy\n",
      "  data.longitude_of_pickup[data.longitude_of_pickup<LE]=LE\n"
     ]
    }
   ],
   "source": [
    "data.longitude_of_pickup[data.longitude_of_pickup>UE]=UE\n",
    "data.longitude_of_pickup[data.longitude_of_pickup<LE]=LE"
   ]
  },
  {
   "cell_type": "code",
   "execution_count": 61,
   "id": "7f34095b",
   "metadata": {},
   "outputs": [
    {
     "data": {
      "text/plain": [
       "{'whiskers': [<matplotlib.lines.Line2D at 0x17ede8361f0>,\n",
       "  <matplotlib.lines.Line2D at 0x17ede836580>],\n",
       " 'caps': [<matplotlib.lines.Line2D at 0x17ede836910>,\n",
       "  <matplotlib.lines.Line2D at 0x17ede836ca0>],\n",
       " 'boxes': [<matplotlib.lines.Line2D at 0x17ede828e20>],\n",
       " 'medians': [<matplotlib.lines.Line2D at 0x17ede844070>],\n",
       " 'fliers': [<matplotlib.lines.Line2D at 0x17ede844400>],\n",
       " 'means': []}"
      ]
     },
     "execution_count": 61,
     "metadata": {},
     "output_type": "execute_result"
    },
    {
     "data": {
      "image/png": "[encoded data removed]",
      "text/plain": [
       "<Figure size 432x288 with 1 Axes>"
      ]
     },
     "metadata": {
      "needs_background": "light"
     },
     "output_type": "display_data"
    }
   ],
   "source": [
    "plt.boxplot(data.longitude_of_pickup)"
   ]
  },
  {
   "cell_type": "code",
   "execution_count": 62,
   "id": "b91a4b2c",
   "metadata": {},
   "outputs": [
    {
     "data": {
      "text/plain": [
       "{'whiskers': [<matplotlib.lines.Line2D at 0x17ede89c670>,\n",
       "  <matplotlib.lines.Line2D at 0x17ede89ca00>],\n",
       " 'caps': [<matplotlib.lines.Line2D at 0x17ede89cd90>,\n",
       "  <matplotlib.lines.Line2D at 0x17ede8a6160>],\n",
       " 'boxes': [<matplotlib.lines.Line2D at 0x17ede89c2e0>],\n",
       " 'medians': [<matplotlib.lines.Line2D at 0x17ede8a64f0>],\n",
       " 'fliers': [<matplotlib.lines.Line2D at 0x17ede8a6880>],\n",
       " 'means': []}"
      ]
     },
     "execution_count": 62,
     "metadata": {},
     "output_type": "execute_result"
    },
    {
     "data": {
      "image/png": "[encoded data removed]",
      "text/plain": [
       "<Figure size 432x288 with 1 Axes>"
      ]
     },
     "metadata": {
      "needs_background": "light"
     },
     "output_type": "display_data"
    }
   ],
   "source": [
    "plt.boxplot(data.latitude_of_pickup)"
   ]
  },
  {
   "cell_type": "code",
   "execution_count": 63,
   "id": "a7028d22",
   "metadata": {},
   "outputs": [
    {
     "name": "stderr",
     "output_type": "stream",
     "text": [
      "C:\\Users\\senth\\AppData\\Local\\Temp/ipykernel_11416/181818703.py:8: SettingWithCopyWarning: \n",
      "A value is trying to be set on a copy of a slice from a DataFrame\n",
      "\n",
      "See the caveats in the documentation: https://pandas.pydata.org/pandas-docs/stable/user_guide/indexing.html#returning-a-view-versus-a-copy\n",
      "  data.latitude_of_pickup[data.latitude_of_pickup>UE]=UE\n",
      "C:\\Users\\senth\\AppData\\Local\\Temp/ipykernel_11416/181818703.py:9: SettingWithCopyWarning: \n",
      "A value is trying to be set on a copy of a slice from a DataFrame\n",
      "\n",
      "See the caveats in the documentation: https://pandas.pydata.org/pandas-docs/stable/user_guide/indexing.html#returning-a-view-versus-a-copy\n",
      "  data.latitude_of_pickup[data.latitude_of_pickup<LE]=LE\n"
     ]
    }
   ],
   "source": [
    "q3=data.latitude_of_pickup.quantile(0.75)\n",
    "q1=data.latitude_of_pickup.quantile(0.25)\n",
    "iqr=q3-q1\n",
    "\n",
    "UE=q3+1.5*(iqr)\n",
    "LE=q1-1.5*(iqr)\n",
    "\n",
    "data.latitude_of_pickup[data.latitude_of_pickup>UE]=UE\n",
    "data.latitude_of_pickup[data.latitude_of_pickup<LE]=LE"
   ]
  },
  {
   "cell_type": "code",
   "execution_count": 64,
   "id": "c8cfb930",
   "metadata": {},
   "outputs": [
    {
     "data": {
      "text/plain": [
       "{'whiskers': [<matplotlib.lines.Line2D at 0x17ede8fe820>,\n",
       "  <matplotlib.lines.Line2D at 0x17ede8febb0>],\n",
       " 'caps': [<matplotlib.lines.Line2D at 0x17ede8fef40>,\n",
       "  <matplotlib.lines.Line2D at 0x17ede90c310>],\n",
       " 'boxes': [<matplotlib.lines.Line2D at 0x17ede8fe490>],\n",
       " 'medians': [<matplotlib.lines.Line2D at 0x17ede90c6a0>],\n",
       " 'fliers': [<matplotlib.lines.Line2D at 0x17ede90ca30>],\n",
       " 'means': []}"
      ]
     },
     "execution_count": 64,
     "metadata": {},
     "output_type": "execute_result"
    },
    {
     "data": {
      "image/png": "[encoded data removed]",
      "text/plain": [
       "<Figure size 432x288 with 1 Axes>"
      ]
     },
     "metadata": {
      "needs_background": "light"
     },
     "output_type": "display_data"
    }
   ],
   "source": [
    "plt.boxplot(data.latitude_of_pickup)"
   ]
  },
  {
   "cell_type": "code",
   "execution_count": 65,
   "id": "55446b78",
   "metadata": {},
   "outputs": [
    {
     "data": {
      "text/plain": [
       "{'whiskers': [<matplotlib.lines.Line2D at 0x17ede973040>,\n",
       "  <matplotlib.lines.Line2D at 0x17ede9733d0>],\n",
       " 'caps': [<matplotlib.lines.Line2D at 0x17ede973760>,\n",
       "  <matplotlib.lines.Line2D at 0x17ede973af0>],\n",
       " 'boxes': [<matplotlib.lines.Line2D at 0x17ede962c70>],\n",
       " 'medians': [<matplotlib.lines.Line2D at 0x17ede973e80>],\n",
       " 'fliers': [<matplotlib.lines.Line2D at 0x17ede97e250>],\n",
       " 'means': []}"
      ]
     },
     "execution_count": 65,
     "metadata": {},
     "output_type": "execute_result"
    },
    {
     "data": {
      "image/png": "[encoded data removed]",
      "text/plain": [
       "<Figure size 432x288 with 1 Axes>"
      ]
     },
     "metadata": {
      "needs_background": "light"
     },
     "output_type": "display_data"
    }
   ],
   "source": [
    "plt.boxplot(data.longitude_of_dropoff)"
   ]
  },
  {
   "cell_type": "code",
   "execution_count": 66,
   "id": "201557f7",
   "metadata": {},
   "outputs": [
    {
     "name": "stderr",
     "output_type": "stream",
     "text": [
      "C:\\Users\\senth\\AppData\\Local\\Temp/ipykernel_11416/2523180924.py:8: SettingWithCopyWarning: \n",
      "A value is trying to be set on a copy of a slice from a DataFrame\n",
      "\n",
      "See the caveats in the documentation: https://pandas.pydata.org/pandas-docs/stable/user_guide/indexing.html#returning-a-view-versus-a-copy\n",
      "  data.longitude_of_dropoff[data.longitude_of_dropoff>UE]=UE\n",
      "C:\\Users\\senth\\AppData\\Local\\Temp/ipykernel_11416/2523180924.py:9: SettingWithCopyWarning: \n",
      "A value is trying to be set on a copy of a slice from a DataFrame\n",
      "\n",
      "See the caveats in the documentation: https://pandas.pydata.org/pandas-docs/stable/user_guide/indexing.html#returning-a-view-versus-a-copy\n",
      "  data.longitude_of_dropoff[data.longitude_of_dropoff<LE]=LE\n"
     ]
    }
   ],
   "source": [
    "q3=data.longitude_of_dropoff.quantile(0.75)\n",
    "q1=data.longitude_of_dropoff.quantile(0.25)\n",
    "iqr=q3-q1\n",
    "\n",
    "UE=q3+1.5*(iqr)\n",
    "LE=q1-1.5*(iqr)\n",
    "\n",
    "data.longitude_of_dropoff[data.longitude_of_dropoff>UE]=UE\n",
    "data.longitude_of_dropoff[data.longitude_of_dropoff<LE]=LE"
   ]
  },
  {
   "cell_type": "code",
   "execution_count": 67,
   "id": "2e223596",
   "metadata": {},
   "outputs": [
    {
     "data": {
      "text/plain": [
       "{'whiskers': [<matplotlib.lines.Line2D at 0x17ede9cde20>,\n",
       "  <matplotlib.lines.Line2D at 0x17ede9dd1f0>],\n",
       " 'caps': [<matplotlib.lines.Line2D at 0x17ede9dd580>,\n",
       "  <matplotlib.lines.Line2D at 0x17ede9dd910>],\n",
       " 'boxes': [<matplotlib.lines.Line2D at 0x17ede9cda90>],\n",
       " 'medians': [<matplotlib.lines.Line2D at 0x17ede9ddca0>],\n",
       " 'fliers': [<matplotlib.lines.Line2D at 0x17ede9e8070>],\n",
       " 'means': []}"
      ]
     },
     "execution_count": 67,
     "metadata": {},
     "output_type": "execute_result"
    },
    {
     "data": {
      "image/png": "[encoded data removed]",
      "text/plain": [
       "<Figure size 432x288 with 1 Axes>"
      ]
     },
     "metadata": {
      "needs_background": "light"
     },
     "output_type": "display_data"
    }
   ],
   "source": [
    "plt.boxplot(data.longitude_of_dropoff)"
   ]
  },
  {
   "cell_type": "code",
   "execution_count": 68,
   "id": "3d928576",
   "metadata": {},
   "outputs": [
    {
     "data": {
      "text/html": [
       "<div>\n",
       "<style scoped>\n",
       "    .dataframe tbody tr th:only-of-type {\n",
       "        vertical-align: middle;\n",
       "    }\n",
       "\n",
       "    .dataframe tbody tr th {\n",
       "        vertical-align: top;\n",
       "    }\n",
       "\n",
       "    .dataframe thead th {\n",
       "        text-align: right;\n",
       "    }\n",
       "</style>\n",
       "<table border=\"1\" class=\"dataframe\">\n",
       "  <thead>\n",
       "    <tr style=\"text-align: right;\">\n",
       "      <th></th>\n",
       "      <th>amount</th>\n",
       "      <th>longitude_of_pickup</th>\n",
       "      <th>latitude_of_pickup</th>\n",
       "      <th>longitude_of_dropoff</th>\n",
       "      <th>latitude_of_dropoff</th>\n",
       "      <th>no_of_passenger</th>\n",
       "    </tr>\n",
       "  </thead>\n",
       "  <tbody>\n",
       "    <tr>\n",
       "      <th>0</th>\n",
       "      <td>4.5</td>\n",
       "      <td>-73.929777</td>\n",
       "      <td>40.721319</td>\n",
       "      <td>-73.922231</td>\n",
       "      <td>40.712278</td>\n",
       "      <td>1</td>\n",
       "    </tr>\n",
       "    <tr>\n",
       "      <th>1</th>\n",
       "      <td>16.9</td>\n",
       "      <td>-74.016048</td>\n",
       "      <td>40.711303</td>\n",
       "      <td>-73.979268</td>\n",
       "      <td>40.782004</td>\n",
       "      <td>1</td>\n",
       "    </tr>\n",
       "    <tr>\n",
       "      <th>2</th>\n",
       "      <td>5.7</td>\n",
       "      <td>-73.982738</td>\n",
       "      <td>40.761270</td>\n",
       "      <td>-73.991242</td>\n",
       "      <td>40.750562</td>\n",
       "      <td>2</td>\n",
       "    </tr>\n",
       "    <tr>\n",
       "      <th>3</th>\n",
       "      <td>7.7</td>\n",
       "      <td>-73.987130</td>\n",
       "      <td>40.733143</td>\n",
       "      <td>-73.991567</td>\n",
       "      <td>40.758092</td>\n",
       "      <td>1</td>\n",
       "    </tr>\n",
       "    <tr>\n",
       "      <th>4</th>\n",
       "      <td>5.3</td>\n",
       "      <td>-73.968095</td>\n",
       "      <td>40.768008</td>\n",
       "      <td>-73.956655</td>\n",
       "      <td>40.783762</td>\n",
       "      <td>1</td>\n",
       "    </tr>\n",
       "    <tr>\n",
       "      <th>...</th>\n",
       "      <td>...</td>\n",
       "      <td>...</td>\n",
       "      <td>...</td>\n",
       "      <td>...</td>\n",
       "      <td>...</td>\n",
       "      <td>...</td>\n",
       "    </tr>\n",
       "    <tr>\n",
       "      <th>49995</th>\n",
       "      <td>15.0</td>\n",
       "      <td>-73.999973</td>\n",
       "      <td>40.748531</td>\n",
       "      <td>-74.016899</td>\n",
       "      <td>40.705993</td>\n",
       "      <td>1</td>\n",
       "    </tr>\n",
       "    <tr>\n",
       "      <th>49996</th>\n",
       "      <td>7.5</td>\n",
       "      <td>-73.984756</td>\n",
       "      <td>40.768211</td>\n",
       "      <td>-73.987366</td>\n",
       "      <td>40.760597</td>\n",
       "      <td>1</td>\n",
       "    </tr>\n",
       "    <tr>\n",
       "      <th>49997</th>\n",
       "      <td>6.9</td>\n",
       "      <td>-74.002698</td>\n",
       "      <td>40.739428</td>\n",
       "      <td>-73.998108</td>\n",
       "      <td>40.759483</td>\n",
       "      <td>1</td>\n",
       "    </tr>\n",
       "    <tr>\n",
       "      <th>49998</th>\n",
       "      <td>4.5</td>\n",
       "      <td>-73.946062</td>\n",
       "      <td>40.777567</td>\n",
       "      <td>-73.953450</td>\n",
       "      <td>40.779687</td>\n",
       "      <td>2</td>\n",
       "    </tr>\n",
       "    <tr>\n",
       "      <th>49999</th>\n",
       "      <td>10.9</td>\n",
       "      <td>-73.932603</td>\n",
       "      <td>40.763805</td>\n",
       "      <td>-73.932603</td>\n",
       "      <td>40.763805</td>\n",
       "      <td>1</td>\n",
       "    </tr>\n",
       "  </tbody>\n",
       "</table>\n",
       "<p>50000 rows × 6 columns</p>\n",
       "</div>"
      ],
      "text/plain": [
       "       amount  longitude_of_pickup  latitude_of_pickup  longitude_of_dropoff  \\\n",
       "0         4.5           -73.929777           40.721319            -73.922231   \n",
       "1        16.9           -74.016048           40.711303            -73.979268   \n",
       "2         5.7           -73.982738           40.761270            -73.991242   \n",
       "3         7.7           -73.987130           40.733143            -73.991567   \n",
       "4         5.3           -73.968095           40.768008            -73.956655   \n",
       "...       ...                  ...                 ...                   ...   \n",
       "49995    15.0           -73.999973           40.748531            -74.016899   \n",
       "49996     7.5           -73.984756           40.768211            -73.987366   \n",
       "49997     6.9           -74.002698           40.739428            -73.998108   \n",
       "49998     4.5           -73.946062           40.777567            -73.953450   \n",
       "49999    10.9           -73.932603           40.763805            -73.932603   \n",
       "\n",
       "       latitude_of_dropoff  no_of_passenger  \n",
       "0                40.712278                1  \n",
       "1                40.782004                1  \n",
       "2                40.750562                2  \n",
       "3                40.758092                1  \n",
       "4                40.783762                1  \n",
       "...                    ...              ...  \n",
       "49995            40.705993                1  \n",
       "49996            40.760597                1  \n",
       "49997            40.759483                1  \n",
       "49998            40.779687                2  \n",
       "49999            40.763805                1  \n",
       "\n",
       "[50000 rows x 6 columns]"
      ]
     },
     "execution_count": 68,
     "metadata": {},
     "output_type": "execute_result"
    }
   ],
   "source": [
    "dummy = pd.get_dummies(data)\n",
    "dummy"
   ]
  },
  {
   "cell_type": "code",
   "execution_count": 69,
   "id": "f4b7d162",
   "metadata": {},
   "outputs": [],
   "source": [
    "from sklearn.preprocessing import MinMaxScaler"
   ]
  },
  {
   "cell_type": "code",
   "execution_count": 70,
   "id": "79088cbb",
   "metadata": {},
   "outputs": [],
   "source": [
    "scaler = MinMaxScaler()\n",
    "model = scaler.fit(dummy)"
   ]
  },
  {
   "cell_type": "code",
   "execution_count": 71,
   "id": "9e4508c2",
   "metadata": {},
   "outputs": [],
   "source": [
    "scaled_data = model.transform(dummy)"
   ]
  },
  {
   "cell_type": "code",
   "execution_count": 72,
   "id": "580e85db",
   "metadata": {},
   "outputs": [],
   "source": [
    "scaled_data1=pd.DataFrame(scaled_data)"
   ]
  },
  {
   "cell_type": "code",
   "execution_count": 73,
   "id": "58de1977",
   "metadata": {},
   "outputs": [
    {
     "data": {
      "text/html": [
       "<div>\n",
       "<style scoped>\n",
       "    .dataframe tbody tr th:only-of-type {\n",
       "        vertical-align: middle;\n",
       "    }\n",
       "\n",
       "    .dataframe tbody tr th {\n",
       "        vertical-align: top;\n",
       "    }\n",
       "\n",
       "    .dataframe thead th {\n",
       "        text-align: right;\n",
       "    }\n",
       "</style>\n",
       "<table border=\"1\" class=\"dataframe\">\n",
       "  <thead>\n",
       "    <tr style=\"text-align: right;\">\n",
       "      <th></th>\n",
       "      <th>0</th>\n",
       "      <th>1</th>\n",
       "      <th>2</th>\n",
       "      <th>3</th>\n",
       "      <th>4</th>\n",
       "      <th>5</th>\n",
       "    </tr>\n",
       "  </thead>\n",
       "  <tbody>\n",
       "    <tr>\n",
       "      <th>count</th>\n",
       "      <td>50000.000000</td>\n",
       "      <td>50000.000000</td>\n",
       "      <td>50000.000000</td>\n",
       "      <td>50000.000000</td>\n",
       "      <td>50000.000000</td>\n",
       "      <td>50000.000000</td>\n",
       "    </tr>\n",
       "    <tr>\n",
       "      <th>mean</th>\n",
       "      <td>0.079825</td>\n",
       "      <td>0.513129</td>\n",
       "      <td>0.493422</td>\n",
       "      <td>0.512317</td>\n",
       "      <td>0.970287</td>\n",
       "      <td>0.277973</td>\n",
       "    </tr>\n",
       "    <tr>\n",
       "      <th>std</th>\n",
       "      <td>0.047247</td>\n",
       "      <td>0.205892</td>\n",
       "      <td>0.197839</td>\n",
       "      <td>0.207089</td>\n",
       "      <td>0.051223</td>\n",
       "      <td>0.214866</td>\n",
       "    </tr>\n",
       "    <tr>\n",
       "      <th>min</th>\n",
       "      <td>0.000000</td>\n",
       "      <td>0.000000</td>\n",
       "      <td>0.000000</td>\n",
       "      <td>0.000000</td>\n",
       "      <td>0.000000</td>\n",
       "      <td>0.000000</td>\n",
       "    </tr>\n",
       "    <tr>\n",
       "      <th>25%</th>\n",
       "      <td>0.053659</td>\n",
       "      <td>0.375000</td>\n",
       "      <td>0.375000</td>\n",
       "      <td>0.375000</td>\n",
       "      <td>0.977169</td>\n",
       "      <td>0.166667</td>\n",
       "    </tr>\n",
       "    <tr>\n",
       "      <th>50%</th>\n",
       "      <td>0.065854</td>\n",
       "      <td>0.477573</td>\n",
       "      <td>0.511990</td>\n",
       "      <td>0.475383</td>\n",
       "      <td>0.977331</td>\n",
       "      <td>0.166667</td>\n",
       "    </tr>\n",
       "    <tr>\n",
       "      <th>75%</th>\n",
       "      <td>0.085366</td>\n",
       "      <td>0.625000</td>\n",
       "      <td>0.625000</td>\n",
       "      <td>0.625000</td>\n",
       "      <td>0.977457</td>\n",
       "      <td>0.333333</td>\n",
       "    </tr>\n",
       "    <tr>\n",
       "      <th>max</th>\n",
       "      <td>1.000000</td>\n",
       "      <td>1.000000</td>\n",
       "      <td>1.000000</td>\n",
       "      <td>1.000000</td>\n",
       "      <td>1.000000</td>\n",
       "      <td>1.000000</td>\n",
       "    </tr>\n",
       "  </tbody>\n",
       "</table>\n",
       "</div>"
      ],
      "text/plain": [
       "                  0             1             2             3             4  \\\n",
       "count  50000.000000  50000.000000  50000.000000  50000.000000  50000.000000   \n",
       "mean       0.079825      0.513129      0.493422      0.512317      0.970287   \n",
       "std        0.047247      0.205892      0.197839      0.207089      0.051223   \n",
       "min        0.000000      0.000000      0.000000      0.000000      0.000000   \n",
       "25%        0.053659      0.375000      0.375000      0.375000      0.977169   \n",
       "50%        0.065854      0.477573      0.511990      0.475383      0.977331   \n",
       "75%        0.085366      0.625000      0.625000      0.625000      0.977457   \n",
       "max        1.000000      1.000000      1.000000      1.000000      1.000000   \n",
       "\n",
       "                  5  \n",
       "count  50000.000000  \n",
       "mean       0.277973  \n",
       "std        0.214866  \n",
       "min        0.000000  \n",
       "25%        0.166667  \n",
       "50%        0.166667  \n",
       "75%        0.333333  \n",
       "max        1.000000  "
      ]
     },
     "execution_count": 73,
     "metadata": {},
     "output_type": "execute_result"
    }
   ],
   "source": [
    "scaled_data1.describe()"
   ]
  },
  {
   "cell_type": "code",
   "execution_count": 74,
   "id": "a7918b27",
   "metadata": {},
   "outputs": [],
   "source": [
    "x=data.drop('amount',axis=1)\n",
    "y=data.amount"
   ]
  },
  {
   "cell_type": "code",
   "execution_count": 75,
   "id": "a8b6f0a9",
   "metadata": {},
   "outputs": [],
   "source": [
    "from sklearn.model_selection import train_test_split\n",
    "x_train , x_test , y_train , y_test = train_test_split(x,y,test_size=0.2,random_state=25)"
   ]
  },
  {
   "cell_type": "code",
   "execution_count": 76,
   "id": "4ebd1c44",
   "metadata": {},
   "outputs": [],
   "source": [
    "from sklearn.ensemble import RandomForestRegressor\n",
    "model=RandomForestRegressor(n_estimators=100,random_state=0)"
   ]
  },
  {
   "cell_type": "code",
   "execution_count": 77,
   "id": "8abe2ff8",
   "metadata": {},
   "outputs": [
    {
     "data": {
      "text/plain": [
       "RandomForestRegressor(random_state=0)"
      ]
     },
     "execution_count": 77,
     "metadata": {},
     "output_type": "execute_result"
    }
   ],
   "source": [
    "model.fit(x_train,y_train)"
   ]
  },
  {
   "cell_type": "code",
   "execution_count": 78,
   "id": "cb6fbaa8",
   "metadata": {},
   "outputs": [],
   "source": [
    "predicted_y = model.predict(x_test)"
   ]
  },
  {
   "cell_type": "code",
   "execution_count": 79,
   "id": "d4f98588",
   "metadata": {},
   "outputs": [
    {
     "data": {
      "text/plain": [
       "0.6824625592259972"
      ]
     },
     "execution_count": 79,
     "metadata": {},
     "output_type": "execute_result"
    }
   ],
   "source": [
    "model.score(x_test,y_test)"
   ]
  },
  {
   "cell_type": "code",
   "execution_count": 80,
   "id": "7dae0d81",
   "metadata": {},
   "outputs": [
    {
     "data": {
      "text/plain": [
       "29.604227624580002"
      ]
     },
     "execution_count": 80,
     "metadata": {},
     "output_type": "execute_result"
    }
   ],
   "source": [
    "from sklearn.metrics import mean_squared_error\n",
    "mean_squared_error(y_test,predicted_y)"
   ]
  },
  {
   "cell_type": "code",
   "execution_count": 81,
   "id": "566b12c6",
   "metadata": {},
   "outputs": [],
   "source": [
    "from sklearn.model_selection import KFold\n",
    "from sklearn.model_selection import cross_val_score"
   ]
  },
  {
   "cell_type": "code",
   "execution_count": 82,
   "id": "6b467d79",
   "metadata": {},
   "outputs": [
    {
     "data": {
      "text/plain": [
       "array([0.69965853, 0.6834565 , 0.72267134, 0.67613502, 0.62717654,\n",
       "       0.54269645, 0.612831  , 0.74693105, 0.72282569, 0.72736814])"
      ]
     },
     "execution_count": 82,
     "metadata": {},
     "output_type": "execute_result"
    }
   ],
   "source": [
    "kf= KFold(n_splits=10).get_n_splits(x_train)\n",
    "model = RandomForestRegressor()\n",
    "cross_val_score(model,x_test,y_test,cv = kf)"
   ]
  },
  {
   "cell_type": "code",
   "execution_count": null,
   "id": "c7b4f6d3",
   "metadata": {},
   "outputs": [],
   "source": []
  }
 ],
 "metadata": {
  "kernelspec": {
   "display_name": "Python 3 (ipykernel)",
   "language": "python",
   "name": "python3"
  },
  "language_info": {
   "codemirror_mode": {
    "name": "ipython",
    "version": 3
   },
   "file_extension": ".py",
   "mimetype": "text/x-python",
   "name": "python",
   "nbconvert_exporter": "python",
   "pygments_lexer": "ipython3",
   "version": "3.9.7"
  }
 },
 "nbformat": 4,
 "nbformat_minor": 5
}
